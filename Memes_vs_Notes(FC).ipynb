{
  "nbformat": 4,
  "nbformat_minor": 0,
  "metadata": {
    "colab": {
      "name": "Memes vs Notes(FC).ipynb",
      "provenance": [],
      "collapsed_sections": [],
      "mount_file_id": "1UspQDT7e66AUfiQFlV2iYGea8t5PfFrJ",
      "authorship_tag": "ABX9TyPPgV5L/lWmkG+rI0Z5CzCl",
      "include_colab_link": true
    },
    "kernelspec": {
      "name": "python3",
      "display_name": "Python 3"
    }
  },
  "cells": [
    {
      "cell_type": "markdown",
      "metadata": {
        "id": "view-in-github",
        "colab_type": "text"
      },
      "source": [
        "<a href=\"https://colab.research.google.com/github/Bhavesh16/Memes-vs-Notes/blob/master/Memes_vs_Notes(FC).ipynb\" target=\"_parent\"><img src=\"https://colab.research.google.com/assets/colab-badge.svg\" alt=\"Open In Colab\"/></a>"
      ]
    },
    {
      "cell_type": "code",
      "metadata": {
        "id": "BcJnYfpGJpHj",
        "colab_type": "code",
        "colab": {}
      },
      "source": [
        "import matplotlib.pyplot as plt\n",
        "import numpy as np\n",
        "import os\n",
        "import cv2\n",
        "import random\n",
        "import sklearn\n",
        "from sklearn.model_selection import train_test_split"
      ],
      "execution_count": 135,
      "outputs": []
    },
    {
      "cell_type": "code",
      "metadata": {
        "id": "81_v8gjdPZe7",
        "colab_type": "code",
        "colab": {}
      },
      "source": [
        "def sigmoid(Z):\n",
        "    \n",
        "    A = 1/(1+np.exp(-Z))\n",
        "    cache = Z\n",
        "    \n",
        "    \n",
        "    return A, cache\n",
        "\n",
        "def relu(Z):\n",
        "\n",
        "    A = np.maximum(0,Z)\n",
        "    \n",
        "    assert(A.shape == Z.shape)\n",
        "    \n",
        "    cache = Z \n",
        "    return A, cache\n",
        "\n",
        "\n",
        "def relu_backward(dA, cache):\n",
        "    \n",
        "    Z = cache\n",
        "    dZ = np.array(dA, copy=True) # just converting dz to a correct object.\n",
        "    \n",
        "    # When z <= 0, you should set dz to 0 as well. \n",
        "    dZ[Z <= 0] = 0\n",
        "    \n",
        "    assert (dZ.shape == Z.shape)\n",
        "    \n",
        "    return dZ\n",
        "    \n",
        "\n",
        "def sigmoid_backward(dA, cache):\n",
        "\n",
        "    Z = cache\n",
        "    \n",
        "    s = 1/(1+np.exp(-Z))\n",
        "    dZ = dA * s * (1-s)\n",
        "    \n",
        "    assert (dZ.shape == Z.shape)\n",
        "    \n",
        "    return dZ"
      ],
      "execution_count": 136,
      "outputs": []
    },
    {
      "cell_type": "code",
      "metadata": {
        "id": "wRHicE4qQdAc",
        "colab_type": "code",
        "colab": {
          "base_uri": "https://localhost:8080/",
          "height": 199
        },
        "outputId": "8077280b-f146-4d74-9a7e-d74fc5e0d9bf"
      },
      "source": [
        "# Explore your dataset \n",
        "m_train = train_X.shape[0]\n",
        "num_px = train_X.shape[1]\n",
        "m_test = test_X.shape[0]\n",
        "m_valid = valid_X.shape[0]\n",
        "\n",
        "\n",
        "print (\"Number of training examples: \" + str(m_train))\n",
        "print (\"Number of validation examples:\" + str(m_valid))\n",
        "print (\"Number of testing examples: \" + str(m_test))\n",
        "print (\"Each image is of size: (\" + str(num_px) + \", \" + str(num_px) + \", 3)\")\n",
        "print (\"train_x shape: \" + str(train_x.shape))\n",
        "print (\"train_y shape: \" + str(train_y.shape))\n",
        "print (\"validation_x_orig shape: \" + str(valid_x.shape))\n",
        "print (\"validation_y shape: \" + str(valid_y.shape))\n",
        "print (\"test_x_orig shape: \" + str(test_x.shape))\n",
        "print (\"test_y shape: \" + str(test_y.shape))"
      ],
      "execution_count": 137,
      "outputs": [
        {
          "output_type": "stream",
          "text": [
            "Number of training examples: 1400\n",
            "Number of validation examples:200\n",
            "Number of testing examples: 300\n",
            "Each image is of size: (64, 64, 3)\n",
            "train_x shape: (12288, 1400)\n",
            "train_y shape: (1, 1400)\n",
            "validation_x_orig shape: (12288, 200)\n",
            "validation_y shape: (1, 200)\n",
            "test_x_orig shape: (12288, 300)\n",
            "test_y shape: (1, 300)\n"
          ],
          "name": "stdout"
        }
      ]
    },
    {
      "cell_type": "code",
      "metadata": {
        "id": "jjVqI_zNQmIb",
        "colab_type": "code",
        "colab": {}
      },
      "source": [
        "def initialize_parameters_deep(layer_dims):\n",
        "\n",
        "    np.random.seed(3)\n",
        "    parameters = {}\n",
        "    L = len(layer_dims)            # number of layers in the network\n",
        "    \n",
        "    for l in range(1, L):\n",
        "        parameters['W' + str(l)] = np.random.randn(layer_dims[l], layer_dims[l-1]) / np.sqrt(layer_dims[l-1]) \n",
        "        parameters['b' + str(l)] = np.zeros((layer_dims[l], 1))\n",
        "        \n",
        "        assert(parameters['W' + str(l)].shape == (layer_dims[l], layer_dims[l-1]))\n",
        "        assert(parameters['b' + str(l)].shape == (layer_dims[l], 1))\n",
        "    \n",
        "    return parameters"
      ],
      "execution_count": 138,
      "outputs": []
    },
    {
      "cell_type": "code",
      "metadata": {
        "id": "5g9EUWc5Q3vY",
        "colab_type": "code",
        "colab": {}
      },
      "source": [
        "def linear_forward(A, W, b):\n",
        "    \n",
        "    Z = np.dot(W, A) + b\n",
        "    assert(Z.shape == (W.shape[0], A.shape[1]))\n",
        "    cache = (A, W, b)\n",
        "    \n",
        "    return Z, cache"
      ],
      "execution_count": 139,
      "outputs": []
    },
    {
      "cell_type": "code",
      "metadata": {
        "id": "A8nAWO4hQ8Tw",
        "colab_type": "code",
        "colab": {}
      },
      "source": [
        "def linear_activation_forward(A_prev, W, b, activation):\n",
        "    \n",
        "    if activation == \"sigmoid\":\n",
        "        # Inputs: \"A_prev, W, b\". Outputs: \"A, activation_cache\".\n",
        "        Z, linear_cache = linear_forward(A_prev, W, b)\n",
        "        A, activation_cache = sigmoid(Z)\n",
        "    \n",
        "    elif activation == \"relu\":\n",
        "        # Inputs: \"A_prev, W, b\". Outputs: \"A, activation_cache\".\n",
        "        Z, linear_cache = linear_forward(A_prev, W, b)\n",
        "        A, activation_cache = relu(Z)\n",
        "    \n",
        "    assert (A.shape == (W.shape[0], A_prev.shape[1]))\n",
        "    cache = (linear_cache, activation_cache)\n",
        "\n",
        "    return A, cache"
      ],
      "execution_count": 140,
      "outputs": []
    },
    {
      "cell_type": "code",
      "metadata": {
        "id": "rDpnBziORBrc",
        "colab_type": "code",
        "colab": {}
      },
      "source": [
        "def L_model_forward(X, parameters):\n",
        "\n",
        "    caches = []\n",
        "    A = X\n",
        "    L = len(parameters) //2                # number of layers in the neural network\n",
        "    \n",
        "    # Implement [LINEAR -> RELU]*(L-1). Add \"cache\" to the \"caches\" list.\n",
        "    for l in range(1, L):\n",
        "        \n",
        "        A_prev = A \n",
        "        A, cache = linear_activation_forward(A_prev, parameters[\"W\"+str(l)], parameters[\"b\"+str(l)], activation = \"relu\") \n",
        "        caches.append(cache)\n",
        "        \n",
        "    # Implement LINEAR -> SIGMOID. Add \"cache\" to the \"caches\" list.\n",
        "    AL, cache = linear_activation_forward(A, parameters[\"W\" + str(L)], parameters[\"b\" + str(L)], activation = \"sigmoid\")\n",
        "    caches.append(cache)\n",
        "    \n",
        "    assert(AL.shape == (1,X.shape[1]))\n",
        "            \n",
        "    return AL, caches"
      ],
      "execution_count": 141,
      "outputs": []
    },
    {
      "cell_type": "code",
      "metadata": {
        "id": "hlIWkoDvRIHJ",
        "colab_type": "code",
        "colab": {}
      },
      "source": [
        "def compute_cost(AL, Y):\n",
        "    \n",
        "    \n",
        "    m = Y.shape[1]\n",
        "\n",
        "    # Compute loss from aL and y.\n",
        "    cost = (-1/m)*np.sum(Y*np.log(AL)+(1-Y)*np.log(1-AL))\n",
        "    \n",
        "    cost = np.squeeze(cost)      # To make sure your cost's shape is what we expect (e.g. this turns [[17]] into 17).\n",
        "    assert(cost.shape == ())\n",
        "    \n",
        "    return cost"
      ],
      "execution_count": 142,
      "outputs": []
    },
    {
      "cell_type": "code",
      "metadata": {
        "id": "nlO7cRO6RPMy",
        "colab_type": "code",
        "colab": {}
      },
      "source": [
        "def linear_backward(dZ, cache):\n",
        " \n",
        "    A_prev, W, b = cache\n",
        "    m = A_prev.shape[1]\n",
        "    \n",
        "    dW = np.dot(dZ,A_prev.T)/m\n",
        "    db = np.sum(dZ,axis=1,keepdims=True)/m\n",
        "    dA_prev = np.dot(W.T,dZ)\n",
        "    \n",
        "    assert (dA_prev.shape == A_prev.shape)\n",
        "    assert (dW.shape == W.shape)\n",
        "    assert (db.shape == b.shape)\n",
        "    \n",
        "    return dA_prev, dW, db"
      ],
      "execution_count": 143,
      "outputs": []
    },
    {
      "cell_type": "code",
      "metadata": {
        "id": "tfRShzllRToB",
        "colab_type": "code",
        "colab": {}
      },
      "source": [
        "def linear_activation_backward(dA, cache, activation):\n",
        "\n",
        "    linear_cache, activation_cache = cache\n",
        "    \n",
        "    if activation == \"relu\":\n",
        "        dZ = relu_backward(dA, activation_cache) \n",
        "        dA_prev, dW, db = linear_backward(dZ, linear_cache)\n",
        "        \n",
        "    elif activation == \"sigmoid\":\n",
        "        dZ = sigmoid_backward(dA, activation_cache)\n",
        "        dA_prev, dW, db = linear_backward(dZ, linear_cache) \n",
        "    \n",
        "    return dA_prev, dW, db"
      ],
      "execution_count": 144,
      "outputs": []
    },
    {
      "cell_type": "code",
      "metadata": {
        "id": "Ilt9UZwyRZ2N",
        "colab_type": "code",
        "colab": {}
      },
      "source": [
        "def L_model_backward(AL, Y, caches):\n",
        "\n",
        "    grads = {}\n",
        "    L = len(caches) # the number of layers\n",
        "    \n",
        "    m = AL.shape[1]\n",
        "    Y = Y.reshape(AL.shape) # after this line, Y is the same shape as AL\n",
        "    \n",
        "    # Initializing the backpropagation\n",
        "    dAL =  - (np.divide(Y, AL) - np.divide(1 - Y, 1 - AL))\n",
        "    \n",
        "    # Lth layer (SIGMOID -> LINEAR) gradients. Inputs: \"dAL, current_cache\". Outputs: \"grads[\"dAL-1\"], grads[\"dWL\"], grads[\"dbL\"]\n",
        "    current_cache = caches[L-1]\n",
        "    grads[\"dA\" + str(L-1)], grads[\"dW\" + str(L)], grads[\"db\" + str(L)] = linear_activation_backward(dAL, current_cache, activation = \"sigmoid\")\n",
        "    \n",
        "    \n",
        "    # Loop from l=L-2 to l=0\n",
        "    for l in reversed(range(L-1)):\n",
        "        # lth layer: (RELU -> LINEAR) gradients.\n",
        "        # Inputs: \"grads[\"dA\" + str(l + 1)], current_cache\". Outputs: \"grads[\"dA\" + str(l)] , grads[\"dW\" + str(l + 1)] , grads[\"db\" + str(l + 1)] \n",
        "        \n",
        "        current_cache = caches[l]\n",
        "        dA_prev_temp, dW_temp, db_temp = linear_activation_backward(grads[\"dA\"+str(l+1)], current_cache, activation = \"relu\")\n",
        "        grads[\"dA\" + str(l)] = dA_prev_temp\n",
        "        grads[\"dW\" + str(l + 1)] = dW_temp\n",
        "        grads[\"db\" + str(l + 1)] = db_temp\n",
        "    \n",
        "\n",
        "    return grads"
      ],
      "execution_count": 145,
      "outputs": []
    },
    {
      "cell_type": "code",
      "metadata": {
        "id": "aVx7lAP0RgkM",
        "colab_type": "code",
        "colab": {}
      },
      "source": [
        "def update_parameters(parameters, grads, learning_rate):\n",
        "    \n",
        "    L = len(parameters) // 2 # number of layers in the neural network\n",
        "    \n",
        "    # Update rule for each parameter. Use a for loop.\n",
        "    for l in range(L):\n",
        "        parameters[\"W\" + str(l+1)] = parameters[\"W\" + str(l+1)] - learning_rate*grads[\"dW\"+str(l+1)] \n",
        "        parameters[\"b\" + str(l+1)] = parameters[\"b\" + str(l+1)] - learning_rate*grads[\"db\"+str(l+1)]\n",
        "    return parameters"
      ],
      "execution_count": 146,
      "outputs": []
    },
    {
      "cell_type": "code",
      "metadata": {
        "id": "GwI9a9QUXG7v",
        "colab_type": "code",
        "colab": {}
      },
      "source": [
        "  def predict(X, y, parameters):\n",
        "    \n",
        "    m = X.shape[1]\n",
        "    n = len(parameters) // 2 # number of layers in the neural network\n",
        "    p = np.zeros((1,m))\n",
        "  \n",
        "    # Forward propagation\n",
        "    probas, caches = L_model_forward(X, parameters)\n",
        "\n",
        "    \n",
        "    # convert probas to 0/1 predictions\n",
        "    for i in range(0, probas.shape[1]):\n",
        "        if probas[0,i] > 0.5:\n",
        "            p[0,i] = 1\n",
        "        else:\n",
        "            p[0,i] = 0\n",
        "    \n",
        "    \n",
        "    accuracy = round(np.sum((p == (y))/m),5)*100\n",
        "        \n",
        "    return accuracy"
      ],
      "execution_count": 147,
      "outputs": []
    },
    {
      "cell_type": "code",
      "metadata": {
        "id": "a2eIGSYFRnzk",
        "colab_type": "code",
        "colab": {}
      },
      "source": [
        "### CONSTANTS ###\n",
        "layers_dims = [12288, 200, 20, 1] #  4-layer model"
      ],
      "execution_count": 148,
      "outputs": []
    },
    {
      "cell_type": "code",
      "metadata": {
        "id": "TL7ybKXVRsuE",
        "colab_type": "code",
        "colab": {}
      },
      "source": [
        "def L_layer_model(X, Y, valid_x, valid_y, layers_dims, learning_rate = 0.0075, num_epochs = 3, print_cost = False, batch_size=64):#lr was 0.009\n",
        "\n",
        "    np.random.seed(1)\n",
        "    costs = []                         # keep track of cost\n",
        "    validation_costs = []              # keep track of validation cost\n",
        "\n",
        "    # Parameters initialization. (≈ 1 line of code)\n",
        "    parameters = initialize_parameters_deep(layers_dims)\n",
        "\n",
        "    # Loop (gradient descent)\n",
        "    for e in range(0, num_epochs):\n",
        "        for i in range(0,X.shape[1],batch_size):\n",
        "          batch_x = X[:,i:(i+batch_size)]\n",
        "          batch_y = Y[i:(i+batch_size),:]         \n",
        "          \n",
        "          # Forward propagation: [LINEAR -> RELU]*(L-1) -> LINEAR -> SIGMOID.\n",
        "          AL, caches = L_model_forward(X, parameters)\n",
        "          valid_AL, valid_caches = L_model_forward(valid_x, parameters)\n",
        "          \n",
        "          # Compute cost.\n",
        "          cost = compute_cost(AL, Y)\n",
        "          validation_cost = compute_cost(valid_AL, valid_y)\n",
        "\n",
        "          # Backward propagation\n",
        "          grads = L_model_backward(AL, Y, caches)\n",
        " \n",
        "          # Update parameters.\n",
        "          parameters = update_parameters(parameters, grads, learning_rate)\n",
        "\n",
        "          costs.append(cost)\n",
        "          validation_costs.append(validation_cost)\n",
        "\n",
        "        print (\"Training cost after epoch %i: %f\" %(e+1, cost))\n",
        "        print (\"Validation cost after epoch %i: %f\" %(e+1, validation_cost))\n",
        "        prediction_valid = predict(valid_x, valid_y, parameters)\n",
        "        print (\"Validation accuracy after epoch %i: %f\" %(e+1, prediction_valid))\n",
        "\n",
        "    # plot the cost\n",
        "    plt.plot(np.squeeze(costs))\n",
        "    plt.ylabel('cost')\n",
        "    plt.xlabel('iterations ')\n",
        "    plt.title(\"Training set\")\n",
        "    plt.show()\n",
        "\n",
        "    # plot the validation cost\n",
        "    plt.plot(np.squeeze(validation_costs))\n",
        "    plt.ylabel('validation cost')\n",
        "    plt.xlabel('iterations ')\n",
        "    plt.title(\"Validation set\")\n",
        "    plt.show()\n",
        "\n",
        "\n",
        "    return parameters"
      ],
      "execution_count": 149,
      "outputs": []
    },
    {
      "cell_type": "code",
      "metadata": {
        "id": "CBZyRreikXRP",
        "colab_type": "code",
        "colab": {}
      },
      "source": [
        "def load_data():\n",
        "    \n",
        "    directory = \"drive/My Drive/datasets\"\n",
        "    classes = [\"Memes\", \"Notes\" ]\n",
        "    \n",
        "    training_data = []\n",
        "    size = 64\n",
        "\n",
        "    def create_training_data():\n",
        "        for category in classes:\n",
        "            path = os.path.join(directory, category)  # paths to memes or notes dire.\n",
        "            class_num = classes.index(category)\n",
        "            for img in os.listdir(path):\n",
        "                try:\n",
        "                    img_array = cv2.imread(os.path.join(path, img))\n",
        "                    img_array = cv2.resize(img_array, (size,size))\n",
        "                    training_data.append([img_array, class_num])\n",
        "                except Exception as e:\n",
        "                    pass\n",
        "    \n",
        "\n",
        "    create_training_data()\n",
        "    random.shuffle(training_data)\n",
        "    X = []\n",
        "    Y = []\n",
        "    random.shuffle(training_data)\n",
        "    for image, label in training_data:\n",
        "      X.append(image)\n",
        "      Y.append(label) \n",
        "    X = np.array(X)\n",
        "    Y = np.array(Y)\n",
        "    train_X, test_X, train_Y, test_Y = train_test_split(X, Y , test_size = 0.1875)\n",
        "    train_X, valid_X, train_Y, valid_Y = train_test_split(X, Y, test_size = 0.125)\n",
        "\n",
        "    train_X = train_X.reshape(train_X.shape[0],-1).T\n",
        "    valid_X = valid_X.reshape(valid_X.shape[0],-1).T\n",
        "    test_X = test_X.reshape(test_X.shape[0],-1).T\n",
        "    train_Y = train_Y.reshape(1,train_Y.shape[0])\n",
        "    valid_Y = valid_Y.reshape(1,valid_Y.shape[0])\n",
        "    test_Y = test_Y.reshape(1,test_Y.shape[0])\n",
        "    train_X = train_X/255\n",
        "    valid_X = valid_X/255\n",
        "    test_X = test_X/255\n",
        "  \n",
        "  \n",
        "    return train_X, train_Y, valid_X, valid_Y, test_X, test_Y,  classes"
      ],
      "execution_count": 150,
      "outputs": []
    },
    {
      "cell_type": "code",
      "metadata": {
        "id": "-hVSkBFlklhD",
        "colab_type": "code",
        "colab": {}
      },
      "source": [
        "train_x, train_y, valid_x, valid_y, test_x, test_y,  classes = load_data()"
      ],
      "execution_count": 151,
      "outputs": []
    },
    {
      "cell_type": "code",
      "metadata": {
        "id": "qUiBioQER2z7",
        "colab_type": "code",
        "colab": {
          "base_uri": "https://localhost:8080/",
          "height": 1000
        },
        "outputId": "a8e04d64-b154-41c7-cbcd-9e4d200c8369"
      },
      "source": [
        "parameters = L_layer_model(train_x, train_y, valid_x, valid_y, layers_dims, learning_rate = 0.009, num_epochs = 40, print_cost = True, batch_size=50)"
      ],
      "execution_count": 152,
      "outputs": [
        {
          "output_type": "stream",
          "text": [
            "Training cost after epoch 1: 0.516904\n",
            "Validation cost after epoch 1: 0.563412\n",
            "Validation accuracy after epoch 1: 69.500000\n",
            "Training cost after epoch 2: 0.410859\n",
            "Validation cost after epoch 2: 0.453770\n",
            "Validation accuracy after epoch 2: 79.000000\n",
            "Training cost after epoch 3: 0.362951\n",
            "Validation cost after epoch 3: 0.402669\n",
            "Validation accuracy after epoch 3: 81.000000\n",
            "Training cost after epoch 4: 0.325487\n",
            "Validation cost after epoch 4: 0.363034\n",
            "Validation accuracy after epoch 4: 86.000000\n",
            "Training cost after epoch 5: 0.299225\n",
            "Validation cost after epoch 5: 0.334926\n",
            "Validation accuracy after epoch 5: 88.000000\n",
            "Training cost after epoch 6: 0.281392\n",
            "Validation cost after epoch 6: 0.315392\n",
            "Validation accuracy after epoch 6: 90.000000\n",
            "Training cost after epoch 7: 0.263412\n",
            "Validation cost after epoch 7: 0.296044\n",
            "Validation accuracy after epoch 7: 92.500000\n",
            "Training cost after epoch 8: 0.249366\n",
            "Validation cost after epoch 8: 0.281429\n",
            "Validation accuracy after epoch 8: 93.500000\n",
            "Training cost after epoch 9: 0.236555\n",
            "Validation cost after epoch 9: 0.268495\n",
            "Validation accuracy after epoch 9: 93.500000\n",
            "Training cost after epoch 10: 0.225110\n",
            "Validation cost after epoch 10: 0.257155\n",
            "Validation accuracy after epoch 10: 93.500000\n",
            "Training cost after epoch 11: 0.213546\n",
            "Validation cost after epoch 11: 0.245705\n",
            "Validation accuracy after epoch 11: 94.000000\n",
            "Training cost after epoch 12: 0.204248\n",
            "Validation cost after epoch 12: 0.236699\n",
            "Validation accuracy after epoch 12: 94.000000\n",
            "Training cost after epoch 13: 0.192296\n",
            "Validation cost after epoch 13: 0.225425\n",
            "Validation accuracy after epoch 13: 94.500000\n",
            "Training cost after epoch 14: 0.184991\n",
            "Validation cost after epoch 14: 0.219089\n",
            "Validation accuracy after epoch 14: 94.500000\n",
            "Training cost after epoch 15: 0.176557\n",
            "Validation cost after epoch 15: 0.211902\n",
            "Validation accuracy after epoch 15: 94.500000\n",
            "Training cost after epoch 16: 0.168509\n",
            "Validation cost after epoch 16: 0.204961\n",
            "Validation accuracy after epoch 16: 95.000000\n",
            "Training cost after epoch 17: 0.162017\n",
            "Validation cost after epoch 17: 0.199995\n",
            "Validation accuracy after epoch 17: 95.000000\n",
            "Training cost after epoch 18: 0.154358\n",
            "Validation cost after epoch 18: 0.193794\n",
            "Validation accuracy after epoch 18: 95.000000\n",
            "Training cost after epoch 19: 0.148518\n",
            "Validation cost after epoch 19: 0.189563\n",
            "Validation accuracy after epoch 19: 95.000000\n",
            "Training cost after epoch 20: 0.141073\n",
            "Validation cost after epoch 20: 0.183595\n",
            "Validation accuracy after epoch 20: 95.000000\n",
            "Training cost after epoch 21: 0.134803\n",
            "Validation cost after epoch 21: 0.178730\n",
            "Validation accuracy after epoch 21: 95.000000\n",
            "Training cost after epoch 22: 0.127728\n",
            "Validation cost after epoch 22: 0.173002\n",
            "Validation accuracy after epoch 22: 95.000000\n",
            "Training cost after epoch 23: 0.122639\n",
            "Validation cost after epoch 23: 0.169408\n",
            "Validation accuracy after epoch 23: 95.000000\n",
            "Training cost after epoch 24: 0.117839\n",
            "Validation cost after epoch 24: 0.166109\n",
            "Validation accuracy after epoch 24: 95.000000\n",
            "Training cost after epoch 25: 0.112763\n",
            "Validation cost after epoch 25: 0.162483\n",
            "Validation accuracy after epoch 25: 95.500000\n",
            "Training cost after epoch 26: 0.107294\n",
            "Validation cost after epoch 26: 0.158395\n",
            "Validation accuracy after epoch 26: 95.500000\n",
            "Training cost after epoch 27: 0.102896\n",
            "Validation cost after epoch 27: 0.155448\n",
            "Validation accuracy after epoch 27: 95.500000\n",
            "Training cost after epoch 28: 0.098964\n",
            "Validation cost after epoch 28: 0.152967\n",
            "Validation accuracy after epoch 28: 95.500000\n",
            "Training cost after epoch 29: 0.095026\n",
            "Validation cost after epoch 29: 0.150432\n",
            "Validation accuracy after epoch 29: 95.500000\n",
            "Training cost after epoch 30: 0.092067\n",
            "Validation cost after epoch 30: 0.148864\n",
            "Validation accuracy after epoch 30: 95.500000\n",
            "Training cost after epoch 31: 0.088846\n",
            "Validation cost after epoch 31: 0.147000\n",
            "Validation accuracy after epoch 31: 95.500000\n",
            "Training cost after epoch 32: 0.085708\n",
            "Validation cost after epoch 32: 0.145123\n",
            "Validation accuracy after epoch 32: 96.000000\n",
            "Training cost after epoch 33: 0.081549\n",
            "Validation cost after epoch 33: 0.142180\n",
            "Validation accuracy after epoch 33: 96.000000\n",
            "Training cost after epoch 34: 0.079050\n",
            "Validation cost after epoch 34: 0.140944\n",
            "Validation accuracy after epoch 34: 96.000000\n",
            "Training cost after epoch 35: 0.075067\n",
            "Validation cost after epoch 35: 0.138144\n",
            "Validation accuracy after epoch 35: 96.000000\n",
            "Training cost after epoch 36: 0.073142\n",
            "Validation cost after epoch 36: 0.137528\n",
            "Validation accuracy after epoch 36: 96.000000\n",
            "Training cost after epoch 37: 0.070589\n",
            "Validation cost after epoch 37: 0.136227\n",
            "Validation accuracy after epoch 37: 96.000000\n",
            "Training cost after epoch 38: 0.067784\n",
            "Validation cost after epoch 38: 0.134702\n",
            "Validation accuracy after epoch 38: 96.000000\n",
            "Training cost after epoch 39: 0.067063\n",
            "Validation cost after epoch 39: 0.135406\n",
            "Validation accuracy after epoch 39: 96.000000\n",
            "Training cost after epoch 40: 0.063965\n",
            "Validation cost after epoch 40: 0.133499\n",
            "Validation accuracy after epoch 40: 96.000000\n"
          ],
          "name": "stdout"
        },
        {
          "output_type": "display_data",
          "data": {
            "image/png": "[encoded data removed]",
            "text/plain": [
              "<Figure size 432x288 with 1 Axes>"
            ]
          },
          "metadata": {
            "tags": [],
            "needs_background": "light"
          }
        },
        {
          "output_type": "display_data",
          "data": {
            "image/png": "[encoded data removed]",
            "text/plain": [
              "<Figure size 432x288 with 1 Axes>"
            ]
          },
          "metadata": {
            "tags": [],
            "needs_background": "light"
          }
        }
      ]
    },
    {
      "cell_type": "code",
      "metadata": {
        "id": "PXHH4IaVmpZ-",
        "colab_type": "code",
        "colab": {}
      },
      "source": [
        "  predictions_train = predict(train_x, train_y, parameters)\n",
        "  predictions_test = predict(test_x, test_y, parameters)\n",
        "  predictions_valid = predict(valid_x, valid_y, parameters) "
      ],
      "execution_count": 155,
      "outputs": []
    },
    {
      "cell_type": "code",
      "metadata": {
        "id": "aXCgZr1nmzmg",
        "colab_type": "code",
        "colab": {
          "base_uri": "https://localhost:8080/",
          "height": 72
        },
        "outputId": "5d780eee-e2bb-4e15-93c5-db28580cf3bc"
      },
      "source": [
        "print(\"Training Accuracy: \", predictions_train,\"%\")\n",
        "print(\"Testing Accuracy: \", predictions_test,\"%\")\n",
        "print(\"Validation Accuracy: \", predictions_valid,\"%\")"
      ],
      "execution_count": 156,
      "outputs": [
        {
          "output_type": "stream",
          "text": [
            "Training Accuracy:  98.429 %\n",
            "Testing Accuracy:  98.333 %\n",
            "Validation Accuracy:  96.0 %\n"
          ],
          "name": "stdout"
        }
      ]
    },
    {
      "cell_type": "code",
      "metadata": {
        "id": "TdOOyW-wm8OJ",
        "colab_type": "code",
        "colab": {}
      },
      "source": [
        ""
      ],
      "execution_count": 154,
      "outputs": []
    }
  ]
}