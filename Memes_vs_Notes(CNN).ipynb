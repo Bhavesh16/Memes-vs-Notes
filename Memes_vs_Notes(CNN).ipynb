{
  "nbformat": 4,
  "nbformat_minor": 0,
  "metadata": {
    "colab": {
      "name": "Memes vs Notes(CNN).ipynb",
      "provenance": [],
      "mount_file_id": "17yLEyxg7niNsmxzqDj-BFxJ5ZB61u5uq",
      "authorship_tag": "ABX9TyOhj1BDBJt82xTdO2R9+S6Q",
      "include_colab_link": true
    },
    "kernelspec": {
      "name": "python3",
      "display_name": "Python 3"
    }
  },
  "cells": [
    {
      "cell_type": "markdown",
      "metadata": {
        "id": "view-in-github",
        "colab_type": "text"
      },
      "source": [
        "<a href=\"https://colab.research.google.com/github/Bhavesh16/Memes-vs-Notes/blob/master/Memes_vs_Notes(CNN).ipynb\" target=\"_parent\"><img src=\"https://colab.research.google.com/assets/colab-badge.svg\" alt=\"Open In Colab\"/></a>"
      ]
    },
    {
      "cell_type": "code",
      "metadata": {
        "id": "JdAuVB7HMq1j",
        "colab_type": "code",
        "colab": {}
      },
      "source": [
        "import matplotlib.pyplot as plt\n",
        "import numpy as np\n",
        "import os\n",
        "import cv2\n",
        "import random\n",
        "import sklearn\n",
        "import torch\n",
        "import torch.nn as nn\n",
        "import torch.nn.functional as F\n",
        "import torch.optim as optim\n",
        "from sklearn.model_selection import train_test_split"
      ],
      "execution_count": 1,
      "outputs": []
    },
    {
      "cell_type": "code",
      "metadata": {
        "id": "LjnognrnM102",
        "colab_type": "code",
        "colab": {}
      },
      "source": [
        "\n",
        "\n",
        "class Net(nn.Module):\n",
        "\n",
        "    def __init__(self):\n",
        "        super(Net, self).__init__()\n",
        "        \n",
        "        self.conv1 = nn.Conv2d(3, 32, 4, 2)\n",
        "        self.conv2 = nn.Conv2d(32, 64, 4, 2)\n",
        "        self.conv3 = nn.Conv2d(64, 128, 4, 1)\n",
        "        self.fc1 = nn.Linear(6*6*128, 200)     \n",
        "        self.fc2 = nn.Linear(200, 20)\n",
        "        self.fc3 = nn.Linear(20,1)\n",
        "\n",
        "\n",
        "    def forward(self, x):\n",
        "        x = F.max_pool2d(F.relu(self.conv1(x)), kernel_size=(4,4), stride=(1,1))\n",
        "        x = F.max_pool2d(F.relu(self.conv2(x)), kernel_size=(4,4), stride=(1,1))\n",
        "        x = F.max_pool2d(F.relu(self.conv3(x)), kernel_size=(2,2), stride=(1,1))\n",
        "        x = x.view(-1, self.num_flat_features(x))\n",
        "        x = F.relu(self.fc1(x))\n",
        "        x = F.relu(self.fc2(x))\n",
        "        x = torch.sigmoid(self.fc3(x))\n",
        "        return x\n",
        "\n",
        "    def num_flat_features(self, x):\n",
        "        size = x.size()[1:]  # all dimensions except the batch dimension\n",
        "        num_features = 1\n",
        "        for s in size:\n",
        "            num_features *= s\n",
        "        return num_features\n",
        "\n",
        "  \n",
        "net = Net()"
      ],
      "execution_count": 2,
      "outputs": []
    },
    {
      "cell_type": "code",
      "metadata": {
        "id": "wU8EhWbENFxB",
        "colab_type": "code",
        "colab": {}
      },
      "source": [
        "optimizer = optim.Adam(net.parameters(), lr = 0.001)\n",
        "loss_func = nn.BCELoss()"
      ],
      "execution_count": 3,
      "outputs": []
    },
    {
      "cell_type": "code",
      "metadata": {
        "id": "14VciAjYPdoZ",
        "colab_type": "code",
        "colab": {}
      },
      "source": [
        "def valid_check(X, Y):\n",
        "  X = X.permute(0,3,1,2)\n",
        "  output = net(X)\n",
        "  loss = loss_func(output, Y)\n",
        "  return loss\n"
      ],
      "execution_count": 4,
      "outputs": []
    },
    {
      "cell_type": "code",
      "metadata": {
        "id": "OxBmxCSsSnPa",
        "colab_type": "code",
        "colab": {}
      },
      "source": [
        "def predict(X, Y):\n",
        "  count = 0\n",
        "  input = X.permute(0,3,2,1)\n",
        "  out = net(input)\n",
        "  pred = (out>0.5).float()\n",
        "  matches = (pred==Y)\n",
        "  for i in range(len(matches)):\n",
        "    if matches[i] == True:\n",
        "      count+=1\n",
        "  accuracy = round(count/len(matches), 5)*100\n",
        "  return accuracy"
      ],
      "execution_count": 5,
      "outputs": []
    },
    {
      "cell_type": "code",
      "metadata": {
        "id": "14xPq9ktSzU3",
        "colab_type": "code",
        "colab": {}
      },
      "source": [
        "def Main(X, Y, valid_x, valid_y, num_epochs=3, batch_size=50):\n",
        "  training_loss = []\n",
        "  validation_loss = []\n",
        "\n",
        "  for e in range(num_epochs):\n",
        "    for i in range(0,len(X), batch_size):\n",
        "      batch_X = X[i:i+batch_size]\n",
        "      batch_Y = Y[i:i+batch_size]\n",
        "      batch_X = batch_X.permute(0,3,2,1)                     \n",
        "      optimizer.zero_grad()\n",
        "      output = net(batch_X)\n",
        "      train_loss = loss_func(output, batch_Y)\n",
        "      train_loss.backward()\n",
        "      optimizer.step()\n",
        "      valid_loss = valid_check(valid_x, valid_y)\n",
        "      validation_loss.append(valid_loss)\n",
        "      training_loss.append(train_loss)\n",
        "    print(f\"Epoch_number:{e+1} training loss:{train_loss}   Validation_loss:{valid_loss} \")\n",
        "\n",
        "\n",
        "  fig, ax = plt.subplots(2, 1, figsize=(12,8))\n",
        "  ax[0].plot(training_loss)\n",
        "  ax[0].set_ylabel('Loss')\n",
        "  ax[0].set_title('Training Loss')\n",
        "\n",
        "  ax[1].plot(validation_loss)\n",
        "  ax[1].set_ylabel('Loss')\n",
        "  ax[1].set_title('Validation Loss')\n",
        "\n",
        "  plt.tight_layout()\n",
        "  plt.show()\n",
        "\n",
        "  return None"
      ],
      "execution_count": 6,
      "outputs": []
    },
    {
      "cell_type": "code",
      "metadata": {
        "id": "cOL5XnkwT6gK",
        "colab_type": "code",
        "colab": {}
      },
      "source": [
        "def load_data():\n",
        "    \n",
        "    directory = \"drive/My Drive/datasets\"\n",
        "    classes = [\"Memes\", \"Notes\" ]\n",
        "    \n",
        "    training_data = []\n",
        "    img_size = 64 \n",
        "\n",
        "    def create_training_data():\n",
        "        for category in classes:\n",
        "            path = os.path.join(directory, category)  # paths to memes or notes dire.\n",
        "            class_num = classes.index(category)\n",
        "            for img in os.listdir(path):\n",
        "                try:\n",
        "                    img_array = cv2.imread(os.path.join(path, img))\n",
        "                    img_array = cv2.resize(img_array,(img_size, img_size))\n",
        "                    training_data.append([img_array, class_num])\n",
        "                except Exception as e:\n",
        "                    pass\n",
        "    \n",
        "\n",
        "    create_training_data()\n",
        "    random.shuffle(training_data)\n",
        "    X = []\n",
        "    Y = []\n",
        "    random.shuffle(training_data)\n",
        "    for image, label in training_data:\n",
        "      X.append(image)\n",
        "      Y.append(label) \n",
        "    X = np.array(X)/255\n",
        "    Y = np.array(Y)\n",
        "    train_X, test_X, train_Y, test_Y = train_test_split(X, Y , test_size = 0.1875)\n",
        "    train_X, valid_X, train_Y, valid_Y = train_test_split(X, Y, test_size = 0.125)\n",
        "\n",
        "    train_X = torch.FloatTensor(train_X)\n",
        "    train_Y = torch.FloatTensor(train_Y).reshape(-1,1) \n",
        "    valid_X = torch.FloatTensor(valid_X)\n",
        "    valid_Y = torch.FloatTensor(valid_Y).reshape(-1,1)\n",
        "    test_X = torch.FloatTensor(test_X)\n",
        "    test_Y = torch.FloatTensor(test_Y).reshape(-1,1)\n",
        "\n",
        "  \n",
        "    return train_X, train_Y, valid_X, valid_Y, test_X, test_Y,  classes"
      ],
      "execution_count": 7,
      "outputs": []
    },
    {
      "cell_type": "code",
      "metadata": {
        "id": "JuXVIVyLUoYB",
        "colab_type": "code",
        "colab": {}
      },
      "source": [
        "train_X, train_Y, valid_X, valid_Y, test_X, test_Y,  classes = load_data()"
      ],
      "execution_count": 8,
      "outputs": []
    },
    {
      "cell_type": "code",
      "metadata": {
        "id": "iOsQN5g_U7Sj",
        "colab_type": "code",
        "colab": {
          "base_uri": "https://localhost:8080/",
          "height": 658
        },
        "outputId": "670d7192-5fe5-4324-b602-7fbffc04aa35"
      },
      "source": [
        "Main(train_X, train_Y, valid_X, valid_Y, num_epochs=4, batch_size=128)"
      ],
      "execution_count": 9,
      "outputs": [
        {
          "output_type": "stream",
          "text": [
            "Epoch_number:1 training loss:0.3236978352069855   Validation_loss:0.3119962811470032 \n",
            "Epoch_number:2 training loss:0.04987029731273651   Validation_loss:0.15303155779838562 \n",
            "Epoch_number:3 training loss:0.044579874724149704   Validation_loss:0.10761471092700958 \n",
            "Epoch_number:4 training loss:0.0563366636633873   Validation_loss:0.18573756515979767 \n"
          ],
          "name": "stdout"
        },
        {
          "output_type": "display_data",
          "data": {
            "image/png": "[encoded data removed]",
            "text/plain": [
              "<Figure size 864x576 with 2 Axes>"
            ]
          },
          "metadata": {
            "tags": [],
            "needs_background": "light"
          }
        }
      ]
    },
    {
      "cell_type": "code",
      "metadata": {
        "id": "mr9nf08tVhmq",
        "colab_type": "code",
        "colab": {}
      },
      "source": [
        "Training_accuracy = predict(train_X, train_Y)\n",
        "Testing_accuracy = predict(test_X, test_Y)\n",
        "Validation_accuracy = predict(valid_X, valid_Y)"
      ],
      "execution_count": 10,
      "outputs": []
    },
    {
      "cell_type": "code",
      "metadata": {
        "id": "sHSCDQLAWR2H",
        "colab_type": "code",
        "colab": {
          "base_uri": "https://localhost:8080/",
          "height": 72
        },
        "outputId": "32512f1e-c1c6-4cfa-bc47-73f2b8489e40"
      },
      "source": [
        "print(\"Training Accuracy: \",Training_accuracy,\"%\")\n",
        "print(\"Testing Accuracy: \",Testing_accuracy,\"%\")\n",
        "print(\"Validation Accuracy: \",Validation_accuracy,\"%\")"
      ],
      "execution_count": 11,
      "outputs": [
        {
          "output_type": "stream",
          "text": [
            "Training Accuracy:  98.071 %\n",
            "Testing Accuracy:  98.333 %\n",
            "Validation Accuracy:  96.5 %\n"
          ],
          "name": "stdout"
        }
      ]
    }
  ]
}